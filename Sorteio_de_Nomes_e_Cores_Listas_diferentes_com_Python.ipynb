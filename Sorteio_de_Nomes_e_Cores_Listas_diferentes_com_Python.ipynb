{
  "nbformat": 4,
  "nbformat_minor": 0,
  "metadata": {
    "colab": {
      "provenance": [],
      "authorship_tag": "ABX9TyPp8tMxik4HDR7rwG4HUlpE",
      "include_colab_link": true
    },
    "kernelspec": {
      "name": "python3",
      "display_name": "Python 3"
    },
    "language_info": {
      "name": "python"
    }
  },
  "cells": [
    {
      "cell_type": "markdown",
      "metadata": {
        "id": "view-in-github",
        "colab_type": "text"
      },
      "source": [
        "<a href=\"https://colab.research.google.com/github/JoyciP/Sorteio-de-Nomes-e-Cores-Listas-diferentes-com-Python/blob/main/Sorteio_de_Nomes_e_Cores_Listas_diferentes_com_Python.ipynb\" target=\"_parent\"><img src=\"https://colab.research.google.com/assets/colab-badge.svg\" alt=\"Open In Colab\"/></a>"
      ]
    },
    {
      "cell_type": "code",
      "execution_count": 1,
      "metadata": {
        "colab": {
          "base_uri": "https://localhost:8080/"
        },
        "id": "iiVuLDNSwSxJ",
        "outputId": "19ac0d6c-91fb-498d-b97d-2937353fefae"
      },
      "outputs": [
        {
          "output_type": "stream",
          "name": "stdout",
          "text": [
            "********* ESCOLHENDO CORES *************\n",
            "Para Maro a cor sorteada foi: Preto\n",
            "Para Diego a cor sorteada foi: Azul\n",
            "Para Fábio a cor sorteada foi: Rosa\n",
            "Para Grazi a cor sorteada foi: Amarelo\n",
            "Para Joyci a cor sorteada foi: Vermelho\n",
            "Para Larissa a cor sorteada foi: Verde\n"
          ]
        }
      ],
      "source": [
        "import random\n",
        "\n",
        "\n",
        "participantes_sorteio = [\"Maro\", \"Joyci\", \"Grazi\", \"Fábio\", \"Larissa\", \"Diego\"]\n",
        "cores = [\"Azul\", \"Verde\", \"Preto\", \"Rosa\", \"Vermelho\", \"Amarelo\"]\n",
        "\n",
        "print('********* ESCOLHENDO CORES *************')\n",
        "\n",
        "i=len(participantes_sorteio)\n",
        "\n",
        "\n",
        "while i > 0:\n",
        "    escolha_nome = random.choice(participantes_sorteio)\n",
        "    novo_sorteio_nome = participantes_sorteio.remove(escolha_nome)\n",
        "\n",
        "    escolha_cor = random.choice(cores)\n",
        "    novo_sorteio_cor = cores.remove(escolha_cor)\n",
        "    i = i-1\n",
        "\n",
        "    print('Para '+ escolha_nome +' a cor sorteada foi: ' + escolha_cor)"
      ]
    },
    {
      "cell_type": "code",
      "source": [],
      "metadata": {
        "id": "Gsms3mjCwU4s"
      },
      "execution_count": null,
      "outputs": []
    }
  ]
}